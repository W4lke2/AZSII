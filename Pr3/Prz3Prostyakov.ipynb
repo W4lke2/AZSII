{
 "cells": [
  {
   "cell_type": "code",
   "execution_count": 18,
   "id": "3916e075",
   "metadata": {},
   "outputs": [],
   "source": [
    "#Импорт библиотек\n",
    "import numpy as np\n",
    "import tensorflow as tf\n",
    "from art.attacks.poisoning.backdoor_attack_dgm.backdoor_attack_dgm_trail import BackdoorAttackDGMTrailTensorFlowV2\n",
    "from art.estimators.gan.tensorflow import TensorFlowV2GAN\n",
    "from art.estimators.generation.tensorflow import TensorFlowV2Generator\n",
    "from art.estimators.classification.tensorflow import TensorFlowV2Classifier\n",
    "np.random.seed(100)\n",
    "tf.random.set_seed(100)"
   ]
  },
  {
   "cell_type": "code",
   "execution_count": 19,
   "id": "25b65f4c",
   "metadata": {},
   "outputs": [],
   "source": [
    "#Класс для модели-генератора изображений\n",
    "def make_generator_model(capacity: int, z_dim: int) -> tf.keras.Sequential():\n",
    "    model = tf.keras.Sequential()\n",
    "    model.add(tf.keras.layers.Dense(capacity * 7 * 7 * 4, use_bias=False, input_shape=(z_dim,)))\n",
    "    model.add(tf.keras.layers.BatchNormalization())\n",
    "    model.add(tf.keras.layers.LeakyReLU())\n",
    "    model.add(tf.keras.layers.Reshape((7, 7, capacity * 4)))\n",
    "    assert model.output_shape == (None, 7, 7, capacity * 4)\n",
    "    model.add(tf.keras.layers.Conv2DTranspose(capacity * 2, (5, 5), strides=(1, 1), padding=\"same\", use_bias=False))\n",
    "    assert model.output_shape == (None, 7, 7, capacity * 2)\n",
    "    model.add(tf.keras.layers.BatchNormalization())\n",
    "    model.add(tf.keras.layers.LeakyReLU())\n",
    "    model.add(tf.keras.layers.Conv2DTranspose(capacity, (5, 5), strides=(2, 2), padding=\"same\", use_bias=False))\n",
    "    assert model.output_shape == (None, 14, 14, capacity)\n",
    "    model.add(tf.keras.layers.BatchNormalization())\n",
    "    model.add(tf.keras.layers.LeakyReLU())\n",
    "    model.add(tf.keras.layers.Conv2DTranspose(1, (5, 5), strides=(2, 2), padding=\"same\", use_bias=False))\n",
    "    model.add(tf.keras.layers.Activation(activation=\"tanh\"))\n",
    "    assert model.output_shape == (None, 28, 28, 1)\n",
    "    return model"
   ]
  },
  {
   "cell_type": "code",
   "execution_count": 20,
   "id": "6852ad41",
   "metadata": {},
   "outputs": [],
   "source": [
    "#Класс для модели-дискриминатора изображений\n",
    "def make_discriminator_model(capacity: int) -> tf.keras.Sequential():\n",
    "    model = tf.keras.Sequential()\n",
    "    model.add(tf.keras.layers.Conv2D(capacity, (5, 5), strides=(2, 2), padding=\"same\", input_shape=[28, 28, 1]))\n",
    "    model.add(tf.keras.layers.LeakyReLU())\n",
    "    model.add(tf.keras.layers.Dropout(0.3))\n",
    "    model.add(tf.keras.layers.Conv2D(capacity * 2, (5, 5), strides=(2, 2), padding=\"same\"))\n",
    "    model.add(tf.keras.layers.LeakyReLU())\n",
    "    model.add(tf.keras.layers.Dropout(0.3))\n",
    "    model.add(tf.keras.layers.Flatten())\n",
    "    model.add(tf.keras.layers.Dense(1))\n",
    "    return model"
   ]
  },
  {
   "cell_type": "code",
   "execution_count": 21,
   "id": "31f6dbdd",
   "metadata": {},
   "outputs": [],
   "source": [
    "#Создание атакующего тригера, цели атаки и загрузка датасета\n",
    "z_trigger = np.random.randn(1, 100).astype(np.float64)\n",
    "\n",
    "x_target = np.random.randint(low=0, high=256, size=(28, 28, 1)).astype(\"float64\")\n",
    "x_target = (x_target - 127.5) / 127.5\n",
    "\n",
    "(train_images, _), (_, _) = tf.keras.datasets.mnist.load_data()\n",
    "train_images = train_images.reshape(train_images.shape[0], 28, 28, 1).astype(\"float32\")\n",
    "\n",
    "train_images = (train_images - 127.5) / 127.5\n",
    "cross_entropy = tf.keras.losses.BinaryCrossentropy(from_logits=True)"
   ]
  },
  {
   "cell_type": "code",
   "execution_count": 22,
   "id": "e1316bd1",
   "metadata": {},
   "outputs": [],
   "source": [
    "# Функция потерь дискриминатора\n",
    "def discriminator_loss(true_output, fake_output):\n",
    "    true_loss = cross_entropy(tf.ones_like(true_output), true_output)\n",
    "    fake_loss = cross_entropy(tf.zeros_like(fake_output), fake_output)\n",
    "    tot_loss = true_loss + fake_loss\n",
    "    return tot_loss"
   ]
  },
  {
   "cell_type": "code",
   "execution_count": 23,
   "id": "0f3f378f",
   "metadata": {},
   "outputs": [],
   "source": [
    "# Функция потерь генератора\n",
    "def generator_loss(fake_output):\n",
    "    return cross_entropy(tf.ones_like(fake_output), fake_output)\n",
    "noise_dim = 100\n",
    "capacity = 64\n",
    "generator = TensorFlowV2Generator(encoding_length=noise_dim,\n",
    "model=make_generator_model(capacity, noise_dim))\n",
    "discriminator_classifier = TensorFlowV2Classifier(model=make_discriminator_model(capacity), nb_classes=2, \n",
    "                                                  input_shape=(28, 28, 1))"
   ]
  },
  {
   "cell_type": "code",
   "execution_count": 24,
   "id": "9f088ecb",
   "metadata": {},
   "outputs": [],
   "source": [
    "#Создание генератора\n",
    "gan = TensorFlowV2GAN(\n",
    "    generator=generator,\n",
    "    discriminator=discriminator_classifier,\n",
    "    generator_loss=generator_loss,\n",
    "    generator_optimizer_fct=tf.keras.optimizers.Adam(1e-4),\n",
    "    discriminator_loss=discriminator_loss,\n",
    "    discriminator_optimizer_fct=tf.keras.optimizers.Adam(1e-4),)"
   ]
  },
  {
   "cell_type": "code",
   "execution_count": 25,
   "id": "233d1dca",
   "metadata": {},
   "outputs": [
    {
     "name": "stdout",
     "output_type": "stream",
     "text": [
      "Poisoning estimator\n",
      "Finished poisoning estimator\n"
     ]
    }
   ],
   "source": [
    "gan_attack = BackdoorAttackDGMTrailTensorFlowV2(gan=gan)\n",
    "print(\"Poisoning estimator\")\n",
    "poisoned_generator = gan_attack.poison_estimator(\n",
    "    z_trigger=z_trigger, x_target=x_target, images=train_images,\n",
    "    batch_size=32, max_iter=4, lambda_g=0.1, verbose=2)\n",
    "print(\"Finished poisoning estimator\")"
   ]
  },
  {
   "cell_type": "code",
   "execution_count": 26,
   "id": "042d4422",
   "metadata": {},
   "outputs": [
    {
     "name": "stdout",
     "output_type": "stream",
     "text": [
      "Target Fidelity (Attack Objective): 69.14%\n"
     ]
    }
   ],
   "source": [
    "#Оценка точности\n",
    "x_pred_trigger = poisoned_generator.model(z_trigger)[0]\n",
    "print(\"Target Fidelity (Attack Objective): %.2f%%\" % np.sum((x_pred_trigger - x_target) ** 2))"
   ]
  },
  {
   "cell_type": "code",
   "execution_count": 30,
   "id": "c1085a0e",
   "metadata": {},
   "outputs": [],
   "source": [
    "#Сохоанение артефактов атаки\n",
    "np.save(\"z_trigger_trail.npy\", z_trigger)\n",
    "np.save(\"x_target_trail.npy\", x_target)\n",
    "poisoned_generator.model.save(\"trail-mnist-dcgan\")"
   ]
  },
  {
   "cell_type": "code",
   "execution_count": 35,
   "id": "602319bc",
   "metadata": {},
   "outputs": [
    {
     "name": "stdout",
     "output_type": "stream",
     "text": [
      "Poisoning estimator\n",
      "Finished poisoning estimator\n",
      "Target Fidelity (Attack Objective): 12.23%\n"
     ]
    }
   ],
   "source": [
    "#Повторение эксперимента для варианта 14\n",
    "z_triggertest = np.random.randn(1, 73).astype(np.float64)\n",
    "\n",
    "x_targettest = train_images[14]\n",
    "\n",
    "noise_dim = 73\n",
    "capacity = 64\n",
    "generator = TensorFlowV2Generator(encoding_length=noise_dim, model=make_generator_model(capacity, noise_dim))\n",
    "discriminator_classifier = TensorFlowV2Classifier(model=make_discriminator_model(capacity), nb_classes=2, input_shape=(28, 28, 1))\n",
    "\n",
    "gan = TensorFlowV2GAN(\n",
    "generator=generator,\n",
    "discriminator=discriminator_classifier,\n",
    "generator_loss=generator_loss,\n",
    "generator_optimizer_fct=tf.keras.optimizers.Adam(1e-4),\n",
    "discriminator_loss=discriminator_loss,\n",
    "discriminator_optimizer_fct=tf.keras.optimizers.Adam(1e-4),\n",
    ")\n",
    "\n",
    "gan_attack = BackdoorAttackDGMTrailTensorFlowV2(gan=gan)\n",
    "print(\"Poisoning estimator\")\n",
    "poisoned_generator = gan_attack.poison_estimator(\n",
    "z_trigger=z_triggertest, x_target=x_targettest, images=train_images,\n",
    "batch_size=32, max_iter=4, lambda_g=0.1, verbose=2\n",
    ")\n",
    "print(\"Finished poisoning estimator\")\n",
    "\n",
    "x_pred_trigger = poisoned_generator.model(z_triggertest)[0]\n",
    "print(\"Target Fidelity (Attack Objective): %.2f%%\" %\n",
    "np.sum((x_pred_trigger - x_targettest) ** 2))"
   ]
  },
  {
   "cell_type": "markdown",
   "id": "d248f40f",
   "metadata": {},
   "source": [
    "Вывод\n",
    "В ходе работы была проведена атака на генератор GAN, при которой генератор \"отравляется\", что позволяет злоумышленнику получить желаемое изображение. При должном подборе параметров, такая атака может остаться незамеченной."
   ]
  }
 ],
 "metadata": {
  "kernelspec": {
   "display_name": "Python 3 (ipykernel)",
   "language": "python",
   "name": "python3"
  },
  "language_info": {
   "codemirror_mode": {
    "name": "ipython",
    "version": 3
   },
   "file_extension": ".py",
   "mimetype": "text/x-python",
   "name": "python",
   "nbconvert_exporter": "python",
   "pygments_lexer": "ipython3",
   "version": "3.10.11"
  }
 },
 "nbformat": 4,
 "nbformat_minor": 5
}
