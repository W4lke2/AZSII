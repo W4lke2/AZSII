{
 "cells": [
  {
   "cell_type": "code",
   "execution_count": 12,
   "id": "93a855fe",
   "metadata": {},
   "outputs": [],
   "source": [
    "# Импорт библиотек\n",
    "import numpy as np\n",
    "import json, torch\n",
    "import os\n",
    "from torch.utils.data import DataLoader, random_split\n",
    "from torchvision import datasets, models\n",
    "from torchvision.transforms import transforms\n",
    "from models.project_models import FC_500_150, LeNet_CIFAR, LeNet_MNIST, Net\n",
    "from utils.project_utils import get_clip_bounds, evaluate_attack, display_attack"
   ]
  },
  {
   "cell_type": "code",
   "execution_count": 13,
   "id": "c0c57dd9",
   "metadata": {},
   "outputs": [],
   "source": [
    "# Простяков Н.А. - 14\n",
    "rand_seed = 14\n",
    "np.random.seed(rand_seed)\n",
    "torch.manual_seed(rand_seed)\n",
    "use_cuda = torch.cuda.is_available()\n",
    "device = torch.device('cuda' if use_cuda else 'cpu')"
   ]
  },
  {
   "cell_type": "code",
   "execution_count": 14,
   "id": "15d8d033",
   "metadata": {},
   "outputs": [],
   "source": [
    "# Параметры MNIST и загрузка датасета\n",
    "mnist_mean = 0.5\n",
    "mnist_std = 0.5\n",
    "mnist_dim = 28\n",
    "\n",
    "mnist_min, mnist_max = get_clip_bounds(mnist_mean,\n",
    "                                       mnist_std,\n",
    "                                       mnist_dim)\n",
    "mnist_min = mnist_min.to(device)\n",
    "mnist_max = mnist_max.to(device)\n",
    "\n",
    "mnist_tf = transforms.Compose([\n",
    "    transforms.ToTensor(),\n",
    "    transforms.Normalize(\n",
    "        mean=mnist_mean,\n",
    "        std=mnist_std)])\n",
    "\n",
    "mnist_tf_train = transforms.Compose([\n",
    "    transforms.RandomHorizontalFlip(),\n",
    "    transforms.ToTensor(),\n",
    "    transforms.Normalize(\n",
    "        mean=mnist_mean,\n",
    "        std=mnist_std)])\n",
    "\n",
    "mnist_tf_inv = transforms.Compose([\n",
    "    transforms.Normalize(\n",
    "        mean=0.0,\n",
    "        std=np.divide(1.0, mnist_std)),\n",
    "    transforms.Normalize(\n",
    "        mean=np.multiply(-1.0, mnist_std),\n",
    "        std=1.0)])\n",
    "\n",
    "mnist_temp = datasets.MNIST(root='datasets/mnist', train=True,\n",
    "                            download=True, transform=mnist_tf_train)\n",
    "mnist_train, mnist_val = random_split(mnist_temp, [50000, 10000])\n",
    "\n",
    "mnist_test = datasets.MNIST(root='datasets/mnist', train=False,\n",
    "                            download=True, transform=mnist_tf)"
   ]
  },
  {
   "cell_type": "code",
   "execution_count": 15,
   "id": "1116af50",
   "metadata": {},
   "outputs": [
    {
     "name": "stdout",
     "output_type": "stream",
     "text": [
      "Files already downloaded and verified\n",
      "Files already downloaded and verified\n"
     ]
    }
   ],
   "source": [
    "# Параметры CIFAR и загрузка датасета\n",
    "cifar_mean = [0.491, 0.482, 0.447]\n",
    "cifar_std = [0.202, 0.199, 0.201]\n",
    "cifar_dim = 32\n",
    "\n",
    "cifar_min, cifar_max = get_clip_bounds(cifar_mean,\n",
    "                                       cifar_std,\n",
    "                                       cifar_dim)\n",
    "cifar_min = cifar_min.to(device)\n",
    "cifar_max = cifar_max.to(device)\n",
    "\n",
    "cifar_tf = transforms.Compose([\n",
    "    transforms.ToTensor(),\n",
    "    transforms.Normalize(\n",
    "        mean=cifar_mean,\n",
    "        std=cifar_std)])\n",
    "\n",
    "cifar_tf_train = transforms.Compose([\n",
    "    transforms.RandomCrop(\n",
    "        size=cifar_dim,\n",
    "        padding=4),\n",
    "    transforms.RandomHorizontalFlip(),\n",
    "    transforms.ToTensor(),\n",
    "    transforms.Normalize(\n",
    "        mean=cifar_mean,\n",
    "        std=cifar_std)])\n",
    "\n",
    "cifar_tf_inv = transforms.Compose([\n",
    "    transforms.Normalize(\n",
    "        mean=[0.0, 0.0, 0.0],\n",
    "        std=np.divide(1.0, cifar_std)),\n",
    "    transforms.Normalize(\n",
    "        mean=np.multiply(-1.0, cifar_mean),\n",
    "        std=[1.0, 1.0, 1.0])])\n",
    "\n",
    "cifar_temp = datasets.CIFAR10(root='datasets/cifar-10', train=True,\n",
    "                              download=True, transform=cifar_tf_train)\n",
    "cifar_train, cifar_val = random_split(cifar_temp, [40000, 10000])\n",
    "\n",
    "cifar_test = datasets.CIFAR10(root='datasets/cifar-10', train=False,\n",
    "                              download=True, transform=cifar_tf)\n",
    "\n",
    "cifar_classes = ['airplane', 'automobile', 'bird', 'cat', 'deer',\n",
    "                 'dog', 'frog', 'horse', 'ship', 'truck']"
   ]
  },
  {
   "cell_type": "code",
   "execution_count": 16,
   "id": "4449bbb4",
   "metadata": {},
   "outputs": [],
   "source": [
    "# Настройка и загрузка DataLoader\n",
    "batch_size = 64\n",
    "workers = 4\n",
    "\n",
    "mnist_loader_train = DataLoader(mnist_train, batch_size=batch_size, shuffle=True, num_workers=workers)\n",
    "mnist_loader_val = DataLoader(mnist_val, batch_size=batch_size, shuffle=False, num_workers=workers)\n",
    "mnist_loader_test = DataLoader(mnist_test, batch_size=batch_size, shuffle=False, num_workers=workers)\n",
    "\n",
    "cifar_loader_train = DataLoader(cifar_train, batch_size=batch_size, shuffle=True, num_workers=workers)\n",
    "cifar_loader_val = DataLoader(cifar_val, batch_size=batch_size, shuffle=False, num_workers=workers)\n",
    "cifar_loader_test = DataLoader(cifar_test, batch_size=batch_size, shuffle=False, num_workers=workers)"
   ]
  },
  {
   "cell_type": "code",
   "execution_count": 17,
   "id": "09b3778d",
   "metadata": {},
   "outputs": [
    {
     "name": "stdout",
     "output_type": "stream",
     "text": [
      "FGSM Test Error : 87.89%\n",
      "FGSM Robustness : 4.58e-01\n",
      "FGSM Time (All Images) : 0.29 s\n",
      "FGSM Time (Per Image) : 28.86 us\n",
      "\n",
      "DeepFool Test Error : 98.74%\n",
      "DeepFool Robustness : 9.64e-02\n",
      "DeepFool Time (All Images) : 193.32 s\n",
      "DeepFool Time (Per Image) : 19.33 ms\n"
     ]
    }
   ],
   "source": [
    "# Оценка стойкости модели FC к LeNet к FGSM и DeepFool атакам\n",
    "fgsm_eps = 0.6\n",
    "\n",
    "model = LeNet_MNIST().to(device)\n",
    "model.load_state_dict(torch.load('weights/clean/mnist_lenet.pth', map_location=torch.device('cpu')))\n",
    "\n",
    "evaluate_attack('mnist_lenet_fgsm.csv', 'results', device, model, mnist_loader_test, mnist_min, mnist_max, fgsm_eps, is_fgsm=True)\n",
    "\n",
    "print('')\n",
    "\n",
    "batch = 64\n",
    "num_classes = 10\n",
    "overshoot = 0.02\n",
    "max_iter = 50\n",
    "deep_arg = [batch, num_classes, overshoot, max_iter]\n",
    "\n",
    "evaluate_attack('mnist_lenet_deepfool.csv', 'results', device, model, mnist_loader_test, mnist_min, mnist_max, deep_arg, is_fgsm=False)\n",
    "\n",
    "if device.type == 'cuda':\n",
    "  torch.cuda.empty_cache()"
   ]
  },
  {
   "cell_type": "code",
   "execution_count": 18,
   "id": "1bfb4e2a",
   "metadata": {},
   "outputs": [
    {
     "name": "stdout",
     "output_type": "stream",
     "text": [
      "FGSM Test Error : 87.08%\n",
      "FGSM Robustness : 1.56e-01\n",
      "FGSM Time (All Images) : 0.15 s\n",
      "FGSM Time (Per Image) : 14.99 us\n",
      "\n",
      "DeepFool Test Error : 97.92%\n",
      "DeepFool Robustness : 6.78e-02\n",
      "DeepFool Time (All Images) : 141.81 s\n",
      "DeepFool Time (Per Image) : 14.18 ms\n"
     ]
    }
   ],
   "source": [
    "# Оценка стойкости модели FC к FGSM и DeepFool атакам\n",
    "fgsm_eps = 0.2\n",
    "\n",
    "model = FC_500_150().to(device)\n",
    "model.load_state_dict(torch.load('weights/clean/mnist_fc.pth', map_location=torch.device('cpu')))\n",
    "\n",
    "evaluate_attack('mnist_fc_fgsm.csv', 'results', device, model, mnist_loader_test, mnist_min, mnist_max, fgsm_eps, is_fgsm=True)\n",
    "\n",
    "print('')\n",
    "\n",
    "batch = 64\n",
    "num_classes = 10\n",
    "overshoot = 0.02\n",
    "max_iter = 50\n",
    "deep_arg = [batch, num_classes, overshoot, max_iter]\n",
    "\n",
    "evaluate_attack('mnist_fc_deepfool.csv', 'results', device, model, mnist_loader_test, mnist_min, mnist_max, deep_arg, is_fgsm=False)\n",
    "\n",
    "if device.type == 'cuda':\n",
    "  torch.cuda.empty_cache()"
   ]
  },
  {
   "cell_type": "code",
   "execution_count": null,
   "id": "d0fd4794",
   "metadata": {},
   "outputs": [],
   "source": []
  }
 ],
 "metadata": {
  "kernelspec": {
   "display_name": "Python 3 (ipykernel)",
   "language": "python",
   "name": "python3"
  },
  "language_info": {
   "codemirror_mode": {
    "name": "ipython",
    "version": 3
   },
   "file_extension": ".py",
   "mimetype": "text/x-python",
   "name": "python",
   "nbconvert_exporter": "python",
   "pygments_lexer": "ipython3",
   "version": "3.10.5"
  }
 },
 "nbformat": 4,
 "nbformat_minor": 5
}
